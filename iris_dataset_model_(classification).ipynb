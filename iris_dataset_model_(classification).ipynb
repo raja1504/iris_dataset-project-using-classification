{
  "nbformat": 4,
  "nbformat_minor": 0,
  "metadata": {
    "colab": {
      "provenance": []
    },
    "kernelspec": {
      "name": "python3",
      "display_name": "Python 3"
    },
    "language_info": {
      "name": "python"
    }
  },
  "cells": [
    {
      "cell_type": "code",
      "execution_count": null,
      "metadata": {
        "id": "soihmKU0wqCT"
      },
      "outputs": [],
      "source": [
        "from sklearn.datasets import load_iris\n",
        "li=load_iris()\n",
        "x=li.data\n",
        "y=li.target\n",
        "from sklearn.preprocessing import MinMaxScaler\n",
        "s=MinMaxScaler()  #normalization\n",
        "x1=s.fit_transform(x)\n",
        "from sklearn.preprocessing import OneHotEncoder   #use OneHotEncoding\n",
        "import numpy as n\n",
        "enc=OneHotEncoder()  #creat a object of OneHotEncoder class\n",
        "dt=enc.fit_transform(y[:,n.newaxis]).toarray() #toarray():- used to complete array\n",
        "y2=dt.astype('int')\n",
        "from sklearn.model_selection import train_test_split\n",
        "xtrain,xtest,ytrain,ytest=train_test_split(x1,y2,test_size=0.2)"
      ]
    },
    {
      "cell_type": "code",
      "source": [
        "from keras.models import Sequential\n",
        "model=Sequential()\n",
        "from keras.layers import Dense\n",
        "model.add(Dense(12,activation='relu',input_dim=4))\n",
        "model.add(Dense(12,activation='relu'))\n",
        "model.add(Dense(3,activation='Softmax'))\n",
        "model.compile(optimizer='adam',loss='categorical_crossentropy')\n",
        "model.fit(xtrain,ytrain,epochs=100)"
      ],
      "metadata": {
        "id": "mSELUJTjw4_N"
      },
      "execution_count": null,
      "outputs": []
    },
    {
      "cell_type": "code",
      "source": [
        "ypred=model.predict(xtest)"
      ],
      "metadata": {
        "id": "JiLSAwRnw-ZV"
      },
      "execution_count": null,
      "outputs": []
    },
    {
      "cell_type": "code",
      "source": [
        "import numpy as np\n",
        "for i in range(len(ypred)):\n",
        "  j=np.argmax(ypred[i,:])\n",
        "  ypred[i,0]=0\n",
        "  ypred[i,1]=0\n",
        "  ypred[i,2]=0\n",
        "  ypred[i,j]=1\n",
        "ypred.astype('int')"
      ],
      "metadata": {
        "id": "ox7sQ1k0xBsN"
      },
      "execution_count": null,
      "outputs": []
    },
    {
      "cell_type": "markdown",
      "source": [
        "Now we calculate the accuracy"
      ],
      "metadata": {
        "id": "TAZ2vJBXxrjH"
      }
    },
    {
      "cell_type": "code",
      "source": [
        "from sklearn.metrics import precision_score\n",
        "precision_score([1,0,0],[1,1,1])\n",
        "sum=0\n",
        "for i in range(len(ypred)):\n",
        "  a=precision_score(ytest[i],ypred[i])\n",
        "  sum=sum+a\n",
        "sum=sum/len(ypred)\n",
        "sum"
      ],
      "metadata": {
        "id": "slfSTnapxH-h"
      },
      "execution_count": null,
      "outputs": []
    }
  ]
}